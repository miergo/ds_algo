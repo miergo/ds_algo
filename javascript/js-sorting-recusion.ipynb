{
 "cells": [
  {
   "cell_type": "code",
   "execution_count": 1,
   "id": "104760c6",
   "metadata": {},
   "outputs": [
    {
     "name": "stdout",
     "output_type": "stream",
     "text": [
      "Hello\n"
     ]
    }
   ],
   "source": [
    "console.log('Hello')"
   ]
  },
  {
   "cell_type": "code",
   "execution_count": 4,
   "id": "95819cd9",
   "metadata": {},
   "outputs": [
    {
     "name": "stdout",
     "output_type": "stream",
     "text": [
      "[ 2, 4, 6, 8, 10 ]\n"
     ]
    }
   ],
   "source": [
    "const data = [1,2,3,4,5]\n",
    "const double = data.map(x => x * 2)\n",
    "console.log(double)"
   ]
  },
  {
   "cell_type": "code",
   "execution_count": 47,
   "id": "5f949f10",
   "metadata": {},
   "outputs": [],
   "source": [
    "// The main issue was that the ternary expression was not returned, and the IIFE was not invoked.\n",
    "// Here is the code rewritten using nested ternary operators and ensuring the result is returned:\n",
    "\n",
    "// In JavaScript, when you use curly braces `{}` in an arrow function, you create a function body and must use an explicit `return` statement to return a value. \n",
    "// Without curly braces, the arrow function implicitly returns the result of the expression.\n",
    "// In the original code, the arrow function for `binary_sum` uses curly braces but does not have an explicit `return`, so it returns `undefined` by default.\n",
    "// Here's the corrected version with an explicit return:\n",
    "\n",
    "const binary_sum = (S, start, stop) => {\n",
    "    return start >= stop ? 0\n",
    "        : start === stop - 1 ? S[start]\n",
    "        : (() => {\n",
    "            const mid = Math.floor((start + stop) / 2);\n",
    "            return binary_sum(S, start, mid) + binary_sum(S, mid, stop);\n",
    "        })();\n",
    "}"
   ]
  },
  {
   "cell_type": "code",
   "execution_count": 48,
   "id": "4ea12736",
   "metadata": {},
   "outputs": [
    {
     "name": "stdout",
     "output_type": "stream",
     "text": [
      "15\n"
     ]
    }
   ],
   "source": [
    "let a = binary_sum(data, 0, data.length)\n",
    "console.log(a)"
   ]
  },
  {
   "cell_type": "code",
   "execution_count": null,
   "id": "ca996a49",
   "metadata": {},
   "outputs": [
    {
     "name": "stdout",
     "output_type": "stream",
     "text": [
      "foo\n",
      "myMethod\n"
     ]
    }
   ],
   "source": [
    "function MyClass() {\n",
    "    this.myField = \"foo\";\n",
    "    // Constructor body\n",
    "  }\n",
    "  MyClass.myStaticField = \"bar\";\n",
    "  MyClass.myStaticMethod = function () {\n",
    "    // myStaticMethod body\n",
    "  };\n",
    "  MyClass.prototype.myMethod = function () {\n",
    "    // myMethod body\n",
    "    console.log(\"myMethod\")\n",
    "  };\n",
    "  \n",
    "  (function () {\n",
    "    // Static initialization code\n",
    "  })();\n",
    "\n",
    "const myInstance = new MyClass();\n",
    "console.log(myInstance.myField); // 'foo'\n",
    "myInstance.myMethod();"
   ]
  },
  {
   "cell_type": "code",
   "execution_count": null,
   "id": "e9ff150c",
   "metadata": {},
   "outputs": [],
   "source": [
    "function MyClass() {\n",
    "    this.myField = \"foo\";\n",
    "    // Constructor body\n",
    "  }\n",
    "  MyClass.myStaticField = \"bar\";\n",
    "  MyClass.myStaticMethod = function () {\n",
    "    // myStaticMethod body\n",
    "  };\n",
    "  MyClass.prototype.myMethod = function () {\n",
    "    // myMethod body\n",
    "    console.log(\"myMethod\")\n",
    "  };\n",
    "  \n",
    "  (function () {\n",
    "    // Static initialization code\n",
    "  })();\n",
    "\n",
    "const myInstance = new MyClass();\n",
    "console.log(myInstance.myField); // 'foo'\n",
    "myInstance.myMethod();"
   ]
  },
  {
   "cell_type": "code",
   "execution_count": 29,
   "id": "72901e30",
   "metadata": {},
   "outputs": [
    {
     "name": "stdout",
     "output_type": "stream",
     "text": [
      "[\n",
      "  0, 0, 0, 0, 0,\n",
      "  0, 0, 0, 0, 0\n",
      "]\n"
     ]
    }
   ],
   "source": [
    "let arr = [1,3,4,5,6,5,4,3,2,1]\n",
    "const emptyArray = new Array(arr.length).fill(0);\n",
    "console.log(emptyArray);\n",
    "\n"
   ]
  },
  {
   "cell_type": "code",
   "execution_count": null,
   "id": "8b05f691",
   "metadata": {},
   "outputs": [
    {
     "name": "stdout",
     "output_type": "stream",
     "text": [
      "[ [ <3 empty items> ], [ <3 empty items> ], [ <3 empty items> ] ]\n",
      "[ [ 0, 1, 2 ], [ 1, 2, 3 ], [ 2, 3, 4 ] ]\n"
     ]
    }
   ],
   "source": [
    "var rows = 3;\n",
    "var cols = 3;\n",
    "\n",
    "let arr = new Array(rows);\n",
    "\n",
    "for(let i = 0; i < arr.length; i++){\n",
    "    arr[i] = new Array(cols);\n",
    "}\n",
    "\n",
    "console.log(arr)\n",
    "for (let i = 0; i < arr.length; i++){\n",
    "    for (let j = 0; j < arr[i].length; j++){\n",
    "        arr[i][j] = i + j;\n",
    "    }\n",
    "}\n",
    "//recursive fill \n",
    "const fillArrayRecursively = (arr, i = 0, j= 0) => {\n",
    "   return i>=arr.length ? 0\n",
    "        :j>=arr[i].length ? fillArrayRecursively(arr, i+1, 0) :\n",
    "        arr[i][j] = i + j;\n",
    "        fillArrayRecursively(arr, i, j+1);\n",
    "}\n",
    "console.log(arr)\n",
    "\n"
   ]
  },
  {
   "cell_type": "code",
   "execution_count": null,
   "id": "eb2209f8",
   "metadata": {},
   "outputs": [
    {
     "name": "stdout",
     "output_type": "stream",
     "text": [
      "1\n",
      "1\n"
     ]
    }
   ],
   "source": [
    "const printFun = (test) => {\n",
    "    return test < 1 ? 1 \n",
    "        : (console.log(test), printFun(test - 1), console.log(test));\n",
    "}\n",
    "\n",
    "let test = 3;\n",
    "printFun(test);\n"
   ]
  },
  {
   "cell_type": "code",
   "execution_count": 61,
   "id": "536d2c28",
   "metadata": {},
   "outputs": [
    {
     "name": "stdout",
     "output_type": "stream",
     "text": [
      "120\n"
     ]
    }
   ],
   "source": [
    "const factorial = (n) => {\n",
    "    return n === 0 ? 1\n",
    "    :n*factorial(n-1)\n",
    "}\n",
    "\n",
    "let n = 5;\n",
    "console.log(factorial(n));\n",
    "\n",
    "\n"
   ]
  },
  {
   "cell_type": "code",
   "execution_count": 62,
   "id": "ccf55a86",
   "metadata": {},
   "outputs": [
    {
     "name": "stdout",
     "output_type": "stream",
     "text": [
      "[ 3, 7 ]\n"
     ]
    }
   ],
   "source": [
    "const minMaxCandy = (prices,k) => {\n",
    "    \n",
    "    //sort prices in ascending order\n",
    "    prices.sort((a,b) => a -b);\n",
    "\n",
    "    let n = prices.length;\n",
    "\n",
    "    //calculate min cost\n",
    "    let minCost = 0;\n",
    "    let i = 0, end = n - 1;\n",
    "\n",
    "    while(i <= end){\n",
    "        minCost += prices[i];\n",
    "        i++\n",
    "\n",
    "        //get k most expensive candies for free\n",
    "        end -= k;\n",
    "    }\n",
    "\n",
    "   \n",
    "\n",
    "    let maxCost = 0;\n",
    "    let start = 0;\n",
    "    i = n-1;\n",
    "    while (i >= start){\n",
    "        maxCost += prices[i];\n",
    "        i--;\n",
    "\n",
    "        //get k cheapest candies for free\n",
    "        start += k;\n",
    "    }\n",
    "\n",
    "    return [minCost, maxCost]\n",
    "}\n",
    "\n",
    "let prices = [3,2,1,4];\n",
    "let k = 2;\n",
    "console.log(minMaxCandy(prices,k));"
   ]
  },
  {
   "cell_type": "code",
   "execution_count": 66,
   "id": "f77d99c8",
   "metadata": {},
   "outputs": [
    {
     "name": "stdout",
     "output_type": "stream",
     "text": [
      "[ 11, 12, 22, 25, 64 ]\n"
     ]
    }
   ],
   "source": [
    "//Selection Sort\n",
    "\n",
    "const selectionSort = (arr) => {\n",
    "    let n = arr.length;\n",
    "    for(let i = 0; i < n - 1; i++){\n",
    "        let minIndex = i;\n",
    "        for(let j = i + 1; j < n; j++){\n",
    "            arr[j] < arr[minIndex] ? minIndex = j : null;\n",
    "        }\n",
    "        // Swap arr[i] and arr[minIndex]\n",
    "        [arr[i], arr[minIndex]] = [arr[minIndex], arr[i]];\n",
    "    }\n",
    "    return arr;\n",
    "}\n",
    "\n",
    "let arr = [64, 25, 12, 22, 11];\n",
    "console.log(selectionSort(arr));"
   ]
  },
  {
   "cell_type": "code",
   "execution_count": 87,
   "id": "db263676",
   "metadata": {},
   "outputs": [
    {
     "name": "stdout",
     "output_type": "stream",
     "text": [
      "Sorted array: \n",
      "11 12 22 25 64\n"
     ]
    }
   ],
   "source": [
    "//Bubble Sort\n",
    "const bubbleSort = (arr) =>{\n",
    "    let n = arr.length;\n",
    "\n",
    "    for (let i = 0; i<n;i++){\n",
    "        let swapped = false;\n",
    "\n",
    "        for(let j = 0; j<n-i-1;j++){\n",
    "            arr[j] > arr[j+1] ? [arr[j],arr[j+1]] = [arr[j+1],arr[j]] : null;\n",
    "            swapped = true;\n",
    "        }\n",
    "        if(!swapped) break;\n",
    "    }\n",
    "    return arr;\n",
    "}\n",
    "\n",
    "const printArray = (arr) => {\n",
    "        console.log(arr.join(\" \"));\n",
    "}\n",
    "let arr = [64, 25, 12, 22, 11];\n",
    "bubbleSort(arr);\n",
    "console.log(\"Sorted array: \");\n",
    "printArray(arr);"
   ]
  },
  {
   "cell_type": "code",
   "execution_count": 89,
   "id": "50c2c249",
   "metadata": {},
   "outputs": [
    {
     "name": "stdout",
     "output_type": "stream",
     "text": [
      "Insertion sorted array: \n",
      "5 6 11 12 13\n"
     ]
    }
   ],
   "source": [
    "//Insertion Sort\n",
    "const insertionSort = (arr) => {\n",
    "    for(let i = 1; i<arr.length;i++){\n",
    "        let key = arr[i];\n",
    "        let j = i - 1;   \n",
    "        \n",
    "        while (j>=0 && key< arr[j]){\n",
    "            arr[j+1] = arr[j];\n",
    "            j--;\n",
    "        }\n",
    "        arr[j+1] = key;\n",
    "    }\n",
    "}\n",
    "\n",
    "let arr = [12, 11, 13, 5, 6];\n",
    "insertionSort(arr);\n",
    "console.log(\"Insertion sorted array: \");\n",
    "printArray(arr);"
   ]
  },
  {
   "cell_type": "code",
   "execution_count": null,
   "id": "2fa9d64f",
   "metadata": {},
   "outputs": [],
   "source": []
  }
 ],
 "metadata": {
  "kernelspec": {
   "display_name": "Deno",
   "language": "typescript",
   "name": "deno"
  },
  "language_info": {
   "codemirror_mode": "typescript",
   "file_extension": ".ts",
   "mimetype": "text/x.typescript",
   "name": "typescript",
   "nbconvert_exporter": "script",
   "pygments_lexer": "typescript",
   "version": "5.9.2"
  }
 },
 "nbformat": 4,
 "nbformat_minor": 5
}
