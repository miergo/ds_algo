{
 "cells": [
  {
   "cell_type": "code",
   "execution_count": null,
   "id": "890ce8a8",
   "metadata": {},
   "outputs": [
    {
     "name": "stdout",
     "output_type": "stream",
     "text": [
      "2 -> 3 -> 4\n"
     ]
    }
   ],
   "source": [
    "class Node:\n",
    "    def __init__(self, x):\n",
    "        self.data = x\n",
    "        self.next = None\n",
    "\n",
    "\n",
    "def insertAtBeginning(last, key):\n",
    "    newNode = Node(key)\n",
    "\n",
    "    if last is None:\n",
    "        newNode.next = newNode\n",
    "        return newNode\n",
    "\n",
    "    newNode.next = last.next\n",
    "    last.next = newNode\n",
    "\n",
    "    return last\n",
    "\n",
    "\n",
    "def printList(last):\n",
    "    if last is None:\n",
    "        return\n",
    "\n",
    "    head = last.next\n",
    "    temp = head\n",
    "\n",
    "    while True:\n",
    "        print(temp.data, end=\"\")\n",
    "        temp = temp.next\n",
    "        if temp != head:\n",
    "            print(\" -> \", end=\"\")\n",
    "        else:\n",
    "            break\n",
    "    print()\n",
    "\n",
    "\n",
    "if __name__ == \"__main__\":\n",
    "    # Create circular linked list: 2 -> 3 -> 4\n",
    "    first = Node(2)\n",
    "    first.next = Node(3)\n",
    "    first.next.next = Node(4)\n",
    "\n",
    "    last = first.next.next\n",
    "    last.next = first\n",
    "\n",
    "    # Insert 5 at the beginning\n",
    "    last = insertAtBeginning(last, 5)\n",
    "\n",
    "    printList(last)"
   ]
  }
 ],
 "metadata": {
  "kernelspec": {
   "display_name": "test",
   "language": "python",
   "name": "python3"
  },
  "language_info": {
   "codemirror_mode": {
    "name": "ipython",
    "version": 3
   },
   "file_extension": ".py",
   "mimetype": "text/x-python",
   "name": "python",
   "nbconvert_exporter": "python",
   "pygments_lexer": "ipython3",
   "version": "3.13.5"
  }
 },
 "nbformat": 4,
 "nbformat_minor": 5
}
